{
 "cells": [
  {
   "cell_type": "markdown",
   "metadata": {},
   "source": [
    "### Data preprocessing"
   ]
  },
  {
   "cell_type": "code",
   "execution_count": 1,
   "metadata": {},
   "outputs": [],
   "source": [
    "# Logistic Regression\n",
    "# Importing the libraries\n",
    "import os\n",
    "import numpy as np\n",
    "import pandas as pd\n",
    "import seaborn as sns\n",
    "import matplotlib.pyplot as plt\n",
    "from matplotlib.font_manager import FontProperties\n",
    "plt.rcParams['font.sans-serif'] = ['Microsoft JhengHei'] \n",
    "plt.rcParams['axes.unicode_minus'] = False"
   ]
  },
  {
   "cell_type": "code",
   "execution_count": 2,
   "metadata": {},
   "outputs": [],
   "source": [
    "# Change working directory\n",
    "os.chdir('C:/Users/User/Desktop/Data&Code/Classification')"
   ]
  },
  {
   "cell_type": "code",
   "execution_count": 3,
   "metadata": {},
   "outputs": [],
   "source": [
    "# Import data\n",
    "Main = pd.read_excel('Classification_data.xlsx',sheet_name = 0)\n",
    "Wealth = pd.read_excel('Classification_data.xlsx',sheet_name = 1)\n",
    "Oversea = pd.read_excel('Classification_data.xlsx',sheet_name = 2)"
   ]
  },
  {
   "cell_type": "code",
   "execution_count": 4,
   "metadata": {},
   "outputs": [],
   "source": [
    "# Aggregate data\n",
    "# Wealth\n",
    "Wealth_flat = Wealth.groupby(['Customer_ID'])['Sales_ID'].first().to_frame()\n",
    "Wealth_flat['Com_ID'] = Wealth.groupby(['Customer_ID'])['Com_ID'].first()\n",
    "Wealth_flat['Area'] = Wealth.groupby(['Customer_ID'])['Area'].first()\n",
    "Wealth_flat['Age'] = Wealth.groupby(['Customer_ID'])['Age'].first()\n",
    "Wealth_flat['Gender'] = Wealth.groupby(['Customer_ID'])['Gender'].first()\n",
    "Wealth_flat['AUM'] = Wealth.groupby(['Customer_ID'])['AUM'].sum()\n",
    "Wealth_flat['Registration_Date'] = Wealth.groupby(['Customer_ID'])['Registration_Date'].first()\n",
    "Wealth_flat = Wealth_flat.reset_index()\n",
    "\n",
    "# Oversea\n",
    "Oversea_flat = Oversea.groupby(['Customer_ID'])['Sales_ID'].first().to_frame()\n",
    "Oversea_flat['Com_ID'] = Oversea.groupby(['Customer_ID'])['Com_ID'].first()\n",
    "Oversea_flat['Area'] = Oversea.groupby(['Customer_ID'])['Area'].first()\n",
    "Oversea_flat['Age'] = Oversea.groupby(['Customer_ID'])['Age'].first()\n",
    "Oversea_flat['Gender'] = Oversea.groupby(['Customer_ID'])['Gender'].first()\n",
    "Oversea_flat['AUM'] = Oversea.groupby(['Customer_ID'])['AUM'].sum()\n",
    "Oversea_flat['Registration_Date'] = Oversea.groupby(['Customer_ID'])['Registration_Date'].first()\n",
    "Oversea_flat = Oversea_flat.reset_index()"
   ]
  },
  {
   "cell_type": "code",
   "execution_count": 5,
   "metadata": {},
   "outputs": [],
   "source": [
    "# mode replace 0\n",
    "import statistics \n",
    "filter_ = np.where(Oversea_flat['Registration_Date'] == 0)[0]\n",
    "Oversea_flat.loc[filter_, 'Registration_Date'] = statistics.mode(Oversea['Registration_Date'])"
   ]
  },
  {
   "cell_type": "code",
   "execution_count": 6,
   "metadata": {},
   "outputs": [],
   "source": [
    "# To_date_time\n",
    "Main['Registration_Date'] =  pd.to_datetime(Main['Registration_Date'], format = \"%Y%m%d\")\n",
    "Wealth_flat['Registration_Date'] =  pd.to_datetime(Wealth_flat['Registration_Date'], format = \"%Y%m%d\")\n",
    "Oversea_flat['Registration_Date'] =  pd.to_datetime(Oversea_flat['Registration_Date'], format = \"%Y%m%d\")"
   ]
  },
  {
   "cell_type": "code",
   "execution_count": 7,
   "metadata": {},
   "outputs": [],
   "source": [
    "# Calculate registered days\n",
    "import datetime\n",
    "Now = datetime.datetime.now()\n",
    "Main['Registered_Days'] = Main['Registration_Date'].map(lambda x: (Now - x)).dt.days\n",
    "Wealth_flat['Registered_Days'] = Wealth_flat['Registration_Date'].map(lambda x: (Now - x)).dt.days\n",
    "Oversea_flat['Registered_Days'] = Oversea_flat['Registration_Date'].map(lambda x: (Now - x)).dt.days"
   ]
  },
  {
   "cell_type": "code",
   "execution_count": 8,
   "metadata": {},
   "outputs": [],
   "source": [
    "# Calculate If register time before 2008 \n",
    "start_2008 = datetime.datetime.strptime('20080101', '%Y%m%d') \n",
    "Main['Befor_2008'] = Main['Registration_Date'].map(lambda x: 1 if x < start_2008 else 0)\n",
    "Wealth_flat['Befor_2008'] = Wealth_flat['Registration_Date'].map(lambda x: 1 if x < start_2008 else 0)\n",
    "Oversea_flat['Befor_2008'] = Oversea_flat['Registration_Date'].map(lambda x: 1 if x < start_2008 else 0)"
   ]
  },
  {
   "cell_type": "code",
   "execution_count": 9,
   "metadata": {},
   "outputs": [],
   "source": [
    "# Calculate If register time in Jan or Feb (Bonus release time)\n",
    "Main['Bonus_release'] = Main['Registration_Date'].map(lambda x: 1 if (x.month == 1) | (x.month == 2) else 0)\n",
    "Wealth_flat['Bonus_release'] = Wealth_flat['Registration_Date'].map(lambda x: 1 if (x.month == 1) | (x.month == 2) else 0)\n",
    "Oversea_flat['Bonus_release'] = Oversea_flat['Registration_Date'].map(lambda x: 1 if (x.month == 1) | (x.month == 2) else 0)"
   ]
  },
  {
   "cell_type": "code",
   "execution_count": 10,
   "metadata": {},
   "outputs": [],
   "source": [
    "# set index\n",
    "Main = Main.set_index('Customer_ID')\n",
    "Wealth_flat = Wealth_flat.set_index('Customer_ID')\n",
    "Oversea_flat = Oversea_flat.set_index('Customer_ID')\n",
    "\n",
    "# Drop columns\n",
    "Main = Main.drop(['Customer_Name', 'Sales_Name', 'Sales_ID', 'Registration_Date'], axis = 1)\n",
    "Wealth_flat = Wealth_flat.drop(['Sales_ID', 'Registration_Date'], axis = 1)\n",
    "Oversea_flat = Oversea_flat.drop(['Sales_ID', 'Registration_Date'], axis = 1)"
   ]
  },
  {
   "cell_type": "code",
   "execution_count": 11,
   "metadata": {},
   "outputs": [],
   "source": [
    "# Dummy variables\n",
    "num_vars = ['Age', 'AUM', 'Registered_Days']\n",
    "cat_vars = ['Com_ID', 'Area']\n",
    "\n",
    "def dummy(df, cat_vars):\n",
    "    for var in cat_vars:\n",
    "        cat_list = 'var'+'_'+ var\n",
    "        cat_list = pd.get_dummies(df[var], prefix = var)\n",
    "        data1 = df.join(cat_list)\n",
    "        data1 = data1.drop(var, axis = 1)\n",
    "        df = data1\n",
    "    return df\n",
    "Main = dummy(Main, cat_vars)\n",
    "Wealth_flat = dummy(Wealth_flat, cat_vars)\n",
    "Oversea_flat = dummy(Oversea_flat, cat_vars)"
   ]
  },
  {
   "cell_type": "code",
   "execution_count": 12,
   "metadata": {},
   "outputs": [],
   "source": [
    "# Labeling \n",
    "Main['Label'] = 0\n",
    "Wealth_flat['Label'] = 1\n",
    "Oversea_flat['Label'] = 1"
   ]
  },
  {
   "cell_type": "code",
   "execution_count": 285,
   "metadata": {},
   "outputs": [
    {
     "data": {
      "text/plain": [
       "Index(['Age', 'Gender', 'AUM', 'Registered_Days', 'Befor_2008',\n",
       "       'Bonus_release', 'Com_ID_5850', 'Com_ID_5851', 'Com_ID_5852',\n",
       "       'Com_ID_5853', 'Com_ID_5854', 'Com_ID_5855', 'Com_ID_5856',\n",
       "       'Com_ID_5857', 'Com_ID_5858', 'Com_ID_5859', 'Com_ID_585A',\n",
       "       'Com_ID_585B', 'Com_ID_585D', 'Com_ID_585E', 'Com_ID_585F',\n",
       "       'Com_ID_585H', 'Com_ID_585I', 'Com_ID_585J', 'Com_ID_585M',\n",
       "       'Com_ID_585P', 'Com_ID_585Q', 'Com_ID_585R', 'Com_ID_585S',\n",
       "       'Com_ID_585U', 'Com_ID_585W', 'Com_ID_585Y', 'Com_ID_585Z',\n",
       "       'Com_ID_585b', 'Com_ID_585c', 'Com_ID_585g', 'Com_ID_585m', 'Area_C',\n",
       "       'Area_N', 'Area_O', 'Area_S', 'Label'],\n",
       "      dtype='object')"
      ]
     },
     "execution_count": 285,
     "metadata": {},
     "output_type": "execute_result"
    }
   ],
   "source": [
    "Main.columns"
   ]
  },
  {
   "cell_type": "markdown",
   "metadata": {},
   "source": [
    "### Sampling"
   ]
  },
  {
   "cell_type": "code",
   "execution_count": 249,
   "metadata": {},
   "outputs": [
    {
     "name": "stdout",
     "output_type": "stream",
     "text": [
      "Shape of Main, Wealth_flat, Oversea_flat : (7042, 42) (5214, 42) (839, 42)\n"
     ]
    }
   ],
   "source": [
    "# Sample shape\n",
    "print(\"Shape of Main, Wealth_flat, Oversea_flat :\", Main.shape, Wealth_flat.shape, Oversea_flat.shape)"
   ]
  },
  {
   "cell_type": "code",
   "execution_count": 13,
   "metadata": {},
   "outputs": [],
   "source": [
    "# Sample pool\n",
    "Main_wealth = Main.sample(n = 5214)\n",
    "Main_Oversea = Main.sample(n = 839)\n",
    "Wealth_pool = pd.concat([Main_wealth, Wealth_flat], axis=0, ignore_index=True)\n",
    "Oversea_pool = pd.concat([Main_Oversea, Oversea_flat], axis=0, ignore_index=True)\n",
    "\n",
    "# Shuffle the pool order\n",
    "from sklearn.utils import shuffle\n",
    "Wealth_pool = shuffle(Wealth_pool)\n",
    "Oversea_pool = shuffle(Oversea_pool)"
   ]
  },
  {
   "cell_type": "code",
   "execution_count": 14,
   "metadata": {},
   "outputs": [],
   "source": [
    "# Split Train test data\n",
    "Wealth_train_num = int(Wealth_pool.shape[0] * 0.8)\n",
    "Oversea_train_num = int(Oversea_pool.shape[0] * 0.8)\n",
    "\n",
    "# Wealth\n",
    "Wealth_train_x = Wealth_pool.iloc[:Wealth_train_num, :41].values\n",
    "Wealth_train_y = Wealth_pool.iloc[:Wealth_train_num, 41].values\n",
    "Wealth_test_x = Wealth_pool.iloc[Wealth_train_num:, :41].values\n",
    "Wealth_test_y = Wealth_pool.iloc[Wealth_train_num:, 41].values\n",
    "\n",
    "# Oversea\n",
    "Oversea_train_x = Oversea_pool.iloc[:Oversea_train_num, :41].values\n",
    "Oversea_train_y = Oversea_pool.iloc[:Oversea_train_num, 41].values\n",
    "Oversea_test_x = Oversea_pool.iloc[Oversea_train_num:, :41].values\n",
    "Oversea_test_y = Oversea_pool.iloc[Oversea_train_num:, 41].values"
   ]
  },
  {
   "cell_type": "code",
   "execution_count": 24,
   "metadata": {},
   "outputs": [
    {
     "data": {
      "image/png": "[encoded data removed]",
      "text/plain": [
       "<Figure size 576x360 with 1 Axes>"
      ]
     },
     "metadata": {
      "needs_background": "light"
     },
     "output_type": "display_data"
    }
   ],
   "source": [
    "# Plot the Age_Sex features\n",
    "plt.figure(figsize = (8,5))\n",
    "plt.xlabel('Registered_Days')\n",
    "plt.ylabel('Density')\n",
    "for tag in np.sort(Wealth_pool['Label'].unique()):\n",
    "    filter_ = Wealth_pool['Label'] == tag\n",
    "    sns.kdeplot(Wealth_pool[filter_].Registered_Days)\n",
    "    plt.legend(labels = ['Group{}'.format(tag)])"
   ]
  },
  {
   "cell_type": "code",
   "execution_count": 24,
   "metadata": {},
   "outputs": [
    {
     "data": {
      "text/html": [
       "<div>\n",
       "<style scoped>\n",
       "    .dataframe tbody tr th:only-of-type {\n",
       "        vertical-align: middle;\n",
       "    }\n",
       "\n",
       "    .dataframe tbody tr th {\n",
       "        vertical-align: top;\n",
       "    }\n",
       "\n",
       "    .dataframe thead th {\n",
       "        text-align: right;\n",
       "    }\n",
       "</style>\n",
       "<table border=\"1\" class=\"dataframe\">\n",
       "  <thead>\n",
       "    <tr style=\"text-align: right;\">\n",
       "      <th>Bonus_release</th>\n",
       "      <th>0</th>\n",
       "      <th>1</th>\n",
       "      <th>00</th>\n",
       "      <th>11</th>\n",
       "    </tr>\n",
       "    <tr>\n",
       "      <th>Label</th>\n",
       "      <th></th>\n",
       "      <th></th>\n",
       "      <th></th>\n",
       "      <th></th>\n",
       "    </tr>\n",
       "  </thead>\n",
       "  <tbody>\n",
       "    <tr>\n",
       "      <th>0</th>\n",
       "      <td>4351</td>\n",
       "      <td>863</td>\n",
       "      <td>435.1</td>\n",
       "      <td>431.5</td>\n",
       "    </tr>\n",
       "    <tr>\n",
       "      <th>1</th>\n",
       "      <td>4999</td>\n",
       "      <td>215</td>\n",
       "      <td>499.9</td>\n",
       "      <td>107.5</td>\n",
       "    </tr>\n",
       "  </tbody>\n",
       "</table>\n",
       "</div>"
      ],
      "text/plain": [
       "Bonus_release     0    1     00     11\n",
       "Label                                 \n",
       "0              4351  863  435.1  431.5\n",
       "1              4999  215  499.9  107.5"
      ]
     },
     "execution_count": 24,
     "metadata": {},
     "output_type": "execute_result"
    }
   ],
   "source": [
    "Wealth_pool_B = pd.crosstab(Wealth_pool.Label,Wealth_pool.Bonus_release)\n",
    "Wealth_pool_B['00'] = Wealth_pool_B[0]/10\n",
    "Wealth_pool_B['11'] = Wealth_pool_B[1]/2\n",
    "Wealth_pool_B"
   ]
  },
  {
   "cell_type": "code",
   "execution_count": 25,
   "metadata": {},
   "outputs": [
    {
     "data": {
      "text/plain": [
       "<matplotlib.axes._subplots.AxesSubplot at 0x1caddff5dc8>"
      ]
     },
     "execution_count": 25,
     "metadata": {},
     "output_type": "execute_result"
    },
    {
     "data": {
      "image/png": "[encoded data removed]",
      "text/plain": [
       "<Figure size 432x288 with 1 Axes>"
      ]
     },
     "metadata": {
      "needs_background": "light"
     },
     "output_type": "display_data"
    }
   ],
   "source": [
    "Wealth_pool_B.iloc[:,2:].plot.bar()"
   ]
  },
  {
   "cell_type": "code",
   "execution_count": 26,
   "metadata": {},
   "outputs": [
    {
     "data": {
      "text/html": [
       "<div>\n",
       "<style scoped>\n",
       "    .dataframe tbody tr th:only-of-type {\n",
       "        vertical-align: middle;\n",
       "    }\n",
       "\n",
       "    .dataframe tbody tr th {\n",
       "        vertical-align: top;\n",
       "    }\n",
       "\n",
       "    .dataframe thead th {\n",
       "        text-align: right;\n",
       "    }\n",
       "</style>\n",
       "<table border=\"1\" class=\"dataframe\">\n",
       "  <thead>\n",
       "    <tr style=\"text-align: right;\">\n",
       "      <th>Bonus_release</th>\n",
       "      <th>0</th>\n",
       "      <th>1</th>\n",
       "      <th>00</th>\n",
       "      <th>11</th>\n",
       "    </tr>\n",
       "    <tr>\n",
       "      <th>Label</th>\n",
       "      <th></th>\n",
       "      <th></th>\n",
       "      <th></th>\n",
       "      <th></th>\n",
       "    </tr>\n",
       "  </thead>\n",
       "  <tbody>\n",
       "    <tr>\n",
       "      <th>0</th>\n",
       "      <td>705</td>\n",
       "      <td>134</td>\n",
       "      <td>70.5</td>\n",
       "      <td>67.0</td>\n",
       "    </tr>\n",
       "    <tr>\n",
       "      <th>1</th>\n",
       "      <td>785</td>\n",
       "      <td>54</td>\n",
       "      <td>78.5</td>\n",
       "      <td>27.0</td>\n",
       "    </tr>\n",
       "  </tbody>\n",
       "</table>\n",
       "</div>"
      ],
      "text/plain": [
       "Bonus_release    0    1    00    11\n",
       "Label                              \n",
       "0              705  134  70.5  67.0\n",
       "1              785   54  78.5  27.0"
      ]
     },
     "execution_count": 26,
     "metadata": {},
     "output_type": "execute_result"
    }
   ],
   "source": [
    "Oversea_pool_B = pd.crosstab(Oversea_pool.Label,Oversea_pool.Bonus_release)\n",
    "Oversea_pool_B['00'] = Oversea_pool_B[0]/10\n",
    "Oversea_pool_B['11'] = Oversea_pool_B[1]/2\n",
    "Oversea_pool_B"
   ]
  },
  {
   "cell_type": "code",
   "execution_count": 27,
   "metadata": {},
   "outputs": [
    {
     "data": {
      "text/plain": [
       "<matplotlib.axes._subplots.AxesSubplot at 0x1cae515fdc8>"
      ]
     },
     "execution_count": 27,
     "metadata": {},
     "output_type": "execute_result"
    },
    {
     "data": {
      "image/png": "[encoded data removed]",
      "text/plain": [
       "<Figure size 432x288 with 1 Axes>"
      ]
     },
     "metadata": {
      "needs_background": "light"
     },
     "output_type": "display_data"
    }
   ],
   "source": [
    "Oversea_pool_B.iloc[:,2:].plot.bar()"
   ]
  },
  {
   "cell_type": "code",
   "execution_count": 32,
   "metadata": {},
   "outputs": [
    {
     "data": {
      "text/plain": [
       "<matplotlib.axes._subplots.AxesSubplot at 0x1cb5ab7ee88>"
      ]
     },
     "execution_count": 32,
     "metadata": {},
     "output_type": "execute_result"
    },
    {
     "data": {
      "image/png": "[encoded data removed]",
      "text/plain": [
       "<Figure size 432x288 with 1 Axes>"
      ]
     },
     "metadata": {
      "needs_background": "light"
     },
     "output_type": "display_data"
    }
   ],
   "source": [
    "pd.crosstab(Wealth_pool.Label,Wealth_pool.Bonus_release).plot.bar()"
   ]
  },
  {
   "cell_type": "code",
   "execution_count": 34,
   "metadata": {},
   "outputs": [
    {
     "data": {
      "text/plain": [
       "<matplotlib.axes._subplots.AxesSubplot at 0x1cb5cef7d88>"
      ]
     },
     "execution_count": 34,
     "metadata": {},
     "output_type": "execute_result"
    },
    {
     "data": {
      "image/png": "[encoded data removed]",
      "text/plain": [
       "<Figure size 432x288 with 1 Axes>"
      ]
     },
     "metadata": {
      "needs_background": "light"
     },
     "output_type": "display_data"
    }
   ],
   "source": [
    "pd.crosstab(Oversea_pool.Label,Oversea_pool.Bonus_release).plot.bar()"
   ]
  },
  {
   "cell_type": "code",
   "execution_count": 35,
   "metadata": {},
   "outputs": [
    {
     "data": {
      "text/plain": [
       "<matplotlib.axes._subplots.AxesSubplot at 0x1cb5bc37788>"
      ]
     },
     "execution_count": 35,
     "metadata": {},
     "output_type": "execute_result"
    },
    {
     "data": {
      "image/png": "[encoded data removed]",
      "text/plain": [
       "<Figure size 432x288 with 1 Axes>"
      ]
     },
     "metadata": {
      "needs_background": "light"
     },
     "output_type": "display_data"
    }
   ],
   "source": [
    "pd.crosstab(Wealth_pool.Label,Wealth_pool.Befor_2008).plot.bar()"
   ]
  },
  {
   "cell_type": "code",
   "execution_count": 36,
   "metadata": {},
   "outputs": [
    {
     "data": {
      "text/plain": [
       "<matplotlib.axes._subplots.AxesSubplot at 0x1cb5cd32d08>"
      ]
     },
     "execution_count": 36,
     "metadata": {},
     "output_type": "execute_result"
    },
    {
     "data": {
      "image/png": "[encoded data removed]",
      "text/plain": [
       "<Figure size 432x288 with 1 Axes>"
      ]
     },
     "metadata": {
      "needs_background": "light"
     },
     "output_type": "display_data"
    }
   ],
   "source": [
    "pd.crosstab(Oversea_pool.Label,Oversea_pool.Befor_2008).plot.bar()"
   ]
  },
  {
   "cell_type": "code",
   "execution_count": 25,
   "metadata": {},
   "outputs": [
    {
     "data": {
      "image/png": "[encoded data removed]",
      "text/plain": [
       "<Figure size 576x360 with 1 Axes>"
      ]
     },
     "metadata": {
      "needs_background": "light"
     },
     "output_type": "display_data"
    }
   ],
   "source": [
    "# Plot the Age_Sex features\n",
    "plt.figure(figsize = (8,5))\n",
    "plt.xlabel('Registered_Days')\n",
    "plt.ylabel('Density')\n",
    "for tag in np.sort(Oversea_pool['Label'].unique()):\n",
    "    filter_ = Oversea_pool['Label'] == tag\n",
    "    sns.kdeplot(Oversea_pool[filter_].Registered_Days)\n",
    "    plt.legend(labels = ['Group{}'.format(tag)])"
   ]
  },
  {
   "cell_type": "code",
   "execution_count": 39,
   "metadata": {},
   "outputs": [
    {
     "data": {
      "image/png": "[encoded data removed]",
      "text/plain": [
       "<Figure size 576x360 with 1 Axes>"
      ]
     },
     "metadata": {
      "needs_background": "light"
     },
     "output_type": "display_data"
    }
   ],
   "source": [
    "# Plot the Age_Sex features\n",
    "plt.figure(figsize = (8,5))\n",
    "plt.xlabel('Age')\n",
    "plt.ylabel('Density')\n",
    "for tag in np.sort(Oversea_pool['Label'].unique()):\n",
    "    filter_ = Oversea_pool['Label'] == tag\n",
    "    sns.kdeplot(Oversea_pool[filter_].Age)\n",
    "    plt.legend(labels = ['Group{}'.format(tag)])"
   ]
  },
  {
   "cell_type": "code",
   "execution_count": 40,
   "metadata": {},
   "outputs": [
    {
     "data": {
      "image/png": "[encoded data removed]",
      "text/plain": [
       "<Figure size 576x360 with 1 Axes>"
      ]
     },
     "metadata": {
      "needs_background": "light"
     },
     "output_type": "display_data"
    }
   ],
   "source": [
    "# Plot the Age_Sex features\n",
    "plt.figure(figsize = (8,5))\n",
    "plt.xlabel('Age')\n",
    "plt.ylabel('Density')\n",
    "for tag in np.sort(Wealth_pool['Label'].unique()):\n",
    "    filter_ = Wealth_pool['Label'] == tag\n",
    "    sns.kdeplot(Wealth_pool[filter_].Age)\n",
    "    plt.legend(labels = ['Group{}'.format(tag)])"
   ]
  },
  {
   "cell_type": "markdown",
   "metadata": {},
   "source": [
    "### Logistic Model (Wealth)"
   ]
  },
  {
   "cell_type": "code",
   "execution_count": 277,
   "metadata": {},
   "outputs": [],
   "source": [
    "# Feature Scaling\n",
    "from sklearn.preprocessing import StandardScaler\n",
    "sc = StandardScaler()\n",
    "\n",
    "Wealth_train_x = sc.fit_transform(Wealth_train_x)\n",
    "Wealth_test_x = sc.transform(Wealth_test_x)"
   ]
  },
  {
   "cell_type": "code",
   "execution_count": 278,
   "metadata": {},
   "outputs": [
    {
     "name": "stdout",
     "output_type": "stream",
     "text": [
      "Optimization terminated successfully.\n",
      "         Current function value: 0.343457\n",
      "         Iterations 29\n",
      "                            Results: Logit\n",
      "======================================================================\n",
      "Model:                Logit              Pseudo R-squared:   0.504    \n",
      "Dependent Variable:   y                  AIC:                5802.2369\n",
      "Date:                 2020-05-18 18:08   BIC:                6055.2829\n",
      "No. Observations:     8342               Log-Likelihood:     -2865.1  \n",
      "Df Model:             35                 LL-Null:            -5782.2  \n",
      "Df Residuals:         8306               LLR p-value:        0.0000   \n",
      "Converged:            1.0000             Scale:              1.0000   \n",
      "No. Iterations:       29.0000                                         \n",
      "----------------------------------------------------------------------\n",
      "     Coef.     Std.Err.      z     P>|z|      [0.025         0.975]   \n",
      "----------------------------------------------------------------------\n",
      "x1   0.1940        0.0350   5.5388 0.0000         0.1253        0.2626\n",
      "x2   0.2803        0.0355   7.8848 0.0000         0.2106        0.3499\n",
      "x3  -0.0710        0.0493  -1.4396 0.1500        -0.1677        0.0257\n",
      "x4  -2.4284        0.0959 -25.3104 0.0000        -2.6164       -2.2403\n",
      "x5  -0.2442        0.0728  -3.3519 0.0008        -0.3869       -0.1014\n",
      "x6  -0.3163        0.0347  -9.1154 0.0000        -0.3844       -0.2483\n",
      "x7   0.0677           nan      nan    nan            nan           nan\n",
      "x8  -0.1956           nan      nan    nan            nan           nan\n",
      "x9  -0.0004           nan      nan    nan            nan           nan\n",
      "x10  0.1434           nan      nan    nan            nan           nan\n",
      "x11 -0.2061           nan      nan    nan            nan           nan\n",
      "x12 -0.0467           nan      nan    nan            nan           nan\n",
      "x13 -0.0648  1250509.2493  -0.0000 1.0000  -2450953.1558  2450953.0261\n",
      "x14  0.0468           nan      nan    nan            nan           nan\n",
      "x15  0.0203           nan      nan    nan            nan           nan\n",
      "x16  0.0617           nan      nan    nan            nan           nan\n",
      "x17  0.0574           nan      nan    nan            nan           nan\n",
      "x18 -0.0441           nan      nan    nan            nan           nan\n",
      "x19  0.0560  1132289.2529   0.0000 1.0000  -2219246.0998  2219246.2118\n",
      "x20  0.0500           nan      nan    nan            nan           nan\n",
      "x21  0.0028   881910.0101   0.0000 1.0000  -1728511.8545  1728511.8601\n",
      "x22 -0.0145           nan      nan    nan            nan           nan\n",
      "x23 -0.0386   680549.1204  -0.0000 1.0000  -1333851.8043  1333851.7272\n",
      "x24 -0.0119           nan      nan    nan            nan           nan\n",
      "x25 -0.0041           nan      nan    nan            nan           nan\n",
      "x26 -0.0195           nan      nan    nan            nan           nan\n",
      "x27  0.1723           nan      nan    nan            nan           nan\n",
      "x28  0.0004           nan      nan    nan            nan           nan\n",
      "x29  0.0842           nan      nan    nan            nan           nan\n",
      "x30  0.0531           nan      nan    nan            nan           nan\n",
      "x31  0.0586 30312681.7127   0.0000 1.0000 -59411764.3730 59411764.4903\n",
      "x32 -0.0139           nan      nan    nan            nan           nan\n",
      "x33  0.0185           nan      nan    nan            nan           nan\n",
      "x34 -0.0377           nan      nan    nan            nan           nan\n",
      "x35 -0.0559           nan      nan    nan            nan           nan\n",
      "x36 -0.2318           nan      nan    nan            nan           nan\n",
      "x37  0.0097           nan      nan    nan            nan           nan\n",
      "x38 -0.0218           nan      nan    nan            nan           nan\n",
      "x39 -0.0032  1649863.5502  -0.0000 1.0000  -3233673.1410  3233673.1346\n",
      "x40  0.0586 28879612.4340   0.0000 1.0000 -56603000.1996 56603000.3168\n",
      "x41  0.0048  4099349.8358   0.0000 1.0000  -8034578.0334  8034578.0429\n",
      "======================================================================\n",
      "\n"
     ]
    },
    {
     "name": "stderr",
     "output_type": "stream",
     "text": [
      "C:\\Users\\User\\anaconda3\\lib\\site-packages\\statsmodels\\base\\model.py:1354: RuntimeWarning: invalid value encountered in sqrt\n",
      "  bse_ = np.sqrt(np.diag(self.cov_params()))\n",
      "C:\\Users\\User\\anaconda3\\lib\\site-packages\\scipy\\stats\\_distn_infrastructure.py:903: RuntimeWarning: invalid value encountered in greater\n",
      "  return (a < x) & (x < b)\n",
      "C:\\Users\\User\\anaconda3\\lib\\site-packages\\scipy\\stats\\_distn_infrastructure.py:903: RuntimeWarning: invalid value encountered in less\n",
      "  return (a < x) & (x < b)\n",
      "C:\\Users\\User\\anaconda3\\lib\\site-packages\\scipy\\stats\\_distn_infrastructure.py:1912: RuntimeWarning: invalid value encountered in less_equal\n",
      "  cond2 = cond0 & (x <= _a)\n"
     ]
    }
   ],
   "source": [
    "# Implement \n",
    "import statsmodels.api as sm\n",
    "logit_model=sm.Logit(Wealth_train_y,Wealth_train_x)\n",
    "result = logit_model.fit()\n",
    "print(result.summary2())"
   ]
  },
  {
   "cell_type": "code",
   "execution_count": 279,
   "metadata": {},
   "outputs": [
    {
     "data": {
      "text/plain": [
       "LogisticRegression(C=1.0, class_weight=None, dual=False, fit_intercept=True,\n",
       "                   intercept_scaling=1, l1_ratio=None, max_iter=100,\n",
       "                   multi_class='auto', n_jobs=None, penalty='l2',\n",
       "                   random_state=None, solver='lbfgs', tol=0.0001, verbose=0,\n",
       "                   warm_start=False)"
      ]
     },
     "execution_count": 279,
     "metadata": {},
     "output_type": "execute_result"
    }
   ],
   "source": [
    "# Fitting Model\n",
    "from sklearn.linear_model import LogisticRegression\n",
    "from sklearn import metrics\n",
    "\n",
    "logreg = LogisticRegression()\n",
    "logreg.fit(Wealth_train_x, Wealth_train_y)"
   ]
  },
  {
   "cell_type": "code",
   "execution_count": 280,
   "metadata": {},
   "outputs": [
    {
     "name": "stdout",
     "output_type": "stream",
     "text": [
      "Accuracy of logistic regression(Wealth) classifier on test set: 0.85\n"
     ]
    }
   ],
   "source": [
    "# Testing\n",
    "y_pred = logreg.predict(Wealth_test_x)\n",
    "print('Accuracy of logistic regression(Wealth) classifier on test set: {:.2f}'.\\\n",
    "      format(logreg.score(Wealth_test_x, Wealth_test_y)))"
   ]
  },
  {
   "cell_type": "markdown",
   "metadata": {},
   "source": [
    "### Logistic Model (Oversea)"
   ]
  },
  {
   "cell_type": "code",
   "execution_count": 281,
   "metadata": {},
   "outputs": [],
   "source": [
    "# Feature Scaling\n",
    "from sklearn.preprocessing import StandardScaler\n",
    "sc = StandardScaler()\n",
    "\n",
    "Oversea_train_x = sc.fit_transform(Oversea_train_x)\n",
    "Oversea_test_x = sc.transform(Oversea_test_x)"
   ]
  },
  {
   "cell_type": "code",
   "execution_count": 282,
   "metadata": {},
   "outputs": [
    {
     "name": "stdout",
     "output_type": "stream",
     "text": [
      "Optimization terminated successfully.\n",
      "         Current function value: 0.407022\n",
      "         Iterations 30\n",
      "                           Results: Logit\n",
      "====================================================================\n",
      "Model:                Logit            Pseudo R-squared: 0.413      \n",
      "Dependent Variable:   y                AIC:              1164.4473  \n",
      "Date:                 2020-05-18 18:08 BIC:              1351.7162  \n",
      "No. Observations:     1342             Log-Likelihood:   -546.22    \n",
      "Df Model:             35               LL-Null:          -930.13    \n",
      "Df Residuals:         1306             LLR p-value:      9.9419e-139\n",
      "Converged:            1.0000           Scale:            1.0000     \n",
      "No. Iterations:       30.0000                                       \n",
      "--------------------------------------------------------------------\n",
      "     Coef.    Std.Err.      z    P>|z|      [0.025         0.975]   \n",
      "--------------------------------------------------------------------\n",
      "x1   0.3746       0.0857  4.3696 0.0000         0.2066        0.5426\n",
      "x2   0.3525       0.0811  4.3443 0.0000         0.1935        0.5116\n",
      "x3   0.0486       0.0914  0.5322 0.5946        -0.1305        0.2277\n",
      "x4  -1.5370       0.1781 -8.6280 0.0000        -1.8861       -1.1878\n",
      "x5  -0.5890       0.1427 -4.1272 0.0000        -0.8688       -0.3093\n",
      "x6  -0.2658       0.0857 -3.1033 0.0019        -0.4337       -0.0979\n",
      "x7   0.0915          nan     nan    nan            nan           nan\n",
      "x8  -0.1371 6184634.3542 -0.0000 1.0000 -12121660.7290 12121660.4547\n",
      "x9  -0.0769          nan     nan    nan            nan           nan\n",
      "x10  0.1667          nan     nan    nan            nan           nan\n",
      "x11 -0.2365          nan     nan    nan            nan           nan\n",
      "x12  0.0747 4935078.9229  0.0000 1.0000  -9672576.8751  9672577.0244\n",
      "x13 -0.2234 3681996.9977 -0.0000 1.0000  -7216581.7300  7216581.2833\n",
      "x14  0.1517          nan     nan    nan            nan           nan\n",
      "x15  0.1597 4427608.8984  0.0000 1.0000  -8677953.8189  8677954.1382\n",
      "x16 -0.0054 5280074.2678 -0.0000 1.0000 -10348755.4061 10348755.3953\n",
      "x17  0.0371          nan     nan    nan            nan           nan\n",
      "x18 -0.0555          nan     nan    nan            nan           nan\n",
      "x19  0.1037 3601070.1651  0.0000 1.0000  -7057967.7257  7057967.9331\n",
      "x20  0.1140 3685164.8545  0.0000 1.0000  -7222790.2778  7222790.5059\n",
      "x21  0.0767 2735399.7401  0.0000 1.0000  -5361284.8972  5361285.0507\n",
      "x22  0.0020          nan     nan    nan            nan           nan\n",
      "x23 -0.0129 2493847.9944 -0.0000 1.0000  -4887852.2648  4887852.2390\n",
      "x24 -0.0515          nan     nan    nan            nan           nan\n",
      "x25  0.1204          nan     nan    nan            nan           nan\n",
      "x26 -0.2032          nan     nan    nan            nan           nan\n",
      "x27  0.0722 4147967.1938  0.0000 1.0000  -8129866.2367  8129866.3810\n",
      "x28  0.0015          nan     nan    nan            nan           nan\n",
      "x29 -0.0521          nan     nan    nan            nan           nan\n",
      "x30  0.0143          nan     nan    nan            nan           nan\n",
      "x31 -0.0183          nan     nan    nan            nan           nan\n",
      "x32  0.0354          nan     nan    nan            nan           nan\n",
      "x33  0.1165          nan     nan    nan            nan           nan\n",
      "x34  0.1290          nan     nan    nan            nan           nan\n",
      "x35 -0.0922          nan     nan    nan            nan           nan\n",
      "x36 -0.4216          nan     nan    nan            nan           nan\n",
      "x37 -0.1464          nan     nan    nan            nan           nan\n",
      "x38 -0.0462 5246187.8685 -0.0000 1.0000 -10282339.3245 10282339.2321\n",
      "x39 -0.0253 2218994.0533 -0.0000 1.0000  -4349148.4516  4349148.4011\n",
      "x40 -0.0183          nan     nan    nan            nan           nan\n",
      "x41  0.0837 6652330.2099  0.0000 1.0000 -13038327.5409 13038327.7083\n",
      "====================================================================\n",
      "\n"
     ]
    },
    {
     "name": "stderr",
     "output_type": "stream",
     "text": [
      "C:\\Users\\User\\anaconda3\\lib\\site-packages\\statsmodels\\base\\model.py:1354: RuntimeWarning: invalid value encountered in sqrt\n",
      "  bse_ = np.sqrt(np.diag(self.cov_params()))\n",
      "C:\\Users\\User\\anaconda3\\lib\\site-packages\\scipy\\stats\\_distn_infrastructure.py:903: RuntimeWarning: invalid value encountered in greater\n",
      "  return (a < x) & (x < b)\n",
      "C:\\Users\\User\\anaconda3\\lib\\site-packages\\scipy\\stats\\_distn_infrastructure.py:903: RuntimeWarning: invalid value encountered in less\n",
      "  return (a < x) & (x < b)\n",
      "C:\\Users\\User\\anaconda3\\lib\\site-packages\\scipy\\stats\\_distn_infrastructure.py:1912: RuntimeWarning: invalid value encountered in less_equal\n",
      "  cond2 = cond0 & (x <= _a)\n"
     ]
    }
   ],
   "source": [
    "# Implement \n",
    "import statsmodels.api as sm\n",
    "logit_model=sm.Logit(Oversea_train_y,Oversea_train_x)\n",
    "result = logit_model.fit()\n",
    "print(result.summary2())"
   ]
  },
  {
   "cell_type": "code",
   "execution_count": 283,
   "metadata": {},
   "outputs": [
    {
     "data": {
      "text/plain": [
       "LogisticRegression(C=1.0, class_weight=None, dual=False, fit_intercept=True,\n",
       "                   intercept_scaling=1, l1_ratio=None, max_iter=100,\n",
       "                   multi_class='auto', n_jobs=None, penalty='l2',\n",
       "                   random_state=None, solver='lbfgs', tol=0.0001, verbose=0,\n",
       "                   warm_start=False)"
      ]
     },
     "execution_count": 283,
     "metadata": {},
     "output_type": "execute_result"
    }
   ],
   "source": [
    "# Fitting Model\n",
    "from sklearn.linear_model import LogisticRegression\n",
    "from sklearn import metrics\n",
    "\n",
    "logreg = LogisticRegression()\n",
    "logreg.fit(Oversea_train_x, Oversea_train_y)"
   ]
  },
  {
   "cell_type": "code",
   "execution_count": 284,
   "metadata": {},
   "outputs": [
    {
     "name": "stdout",
     "output_type": "stream",
     "text": [
      "Accuracy of logistic regression(Oversea) classifier on test set: 0.81\n"
     ]
    }
   ],
   "source": [
    "# Testing\n",
    "y_pred = logreg.predict(Wealth_test_x)\n",
    "print('Accuracy of logistic regression(Oversea) classifier on test set: {:.2f}'.\\\n",
    "      format(logreg.score(Oversea_test_x, Oversea_test_y)))"
   ]
  }
 ],
 "metadata": {
  "kernelspec": {
   "display_name": "Python 3",
   "language": "python",
   "name": "python3"
  },
  "language_info": {
   "codemirror_mode": {
    "name": "ipython",
    "version": 3
   },
   "file_extension": ".py",
   "mimetype": "text/x-python",
   "name": "python",
   "nbconvert_exporter": "python",
   "pygments_lexer": "ipython3",
   "version": "3.7.6"
  }
 },
 "nbformat": 4,
 "nbformat_minor": 4
}
